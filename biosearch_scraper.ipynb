{
 "cells": [
  {
   "cell_type": "markdown",
   "metadata": {},
   "source": [
    "# BioSearch Scraper\n",
    "\n",
    "MBDS Universidad de Navarra 2023/2024\n",
    "\n",
    "Paula Sanjuan Campos\n"
   ]
  },
  {
   "cell_type": "markdown",
   "metadata": {},
   "source": [
    "## 1. Introduction\n",
    "\n",
    "In this project, data from scientific articles will be obtained from the PubMed database through its API. PubMed is a leading database for biomedical and health sciences literature, offering a vast collection of articles, books, reviews, and other resources. PubMed was developed and is maintained by the National Center for Biotechnology Information (NCBI). This project gathers detailed information on scientific articles (title, keywords, publication date, authors).\n",
    "\n",
    "The *Entrez* API, provided by the U.S. National Library of Medicine (NLM), is used. This API allows access to the PubMed database, enabling advanced queries and retrieval of detailed information about scientific articles. The *Entrez* API offers a wide range of functions that allow users to search for articles using search terms, filters, article identifiers, retrieve specific article information, and more. The *Entrez* *E-utilities* use a fixed URL syntax to translate a standard set of input parameters into the necessary values for searching and retrieving the requested data.\n",
    "\n",
    "As demonstrated in the project code, *Entrez* provides access to 38 databases that cover a variety of biomedical data, including nucleotide and protein sequences, genetic records, three-dimensional molecular structures, and biomedical literature. This project focuses on the latter, the biomedical literature database.\n",
    "\n",
    "Among the usage guidelines and requirements for NCBI utilities, there is a limit of three requests per second. To improve access, an API key is required, which can be requested through the NCBI account settings page. With an API key, access is granted for up to 10 requests per second. Furthermore, to minimize the number of requests and thus be more efficient in data retrieval, particularly when dealing with large numbers of records, it is recommended to use the *Entrez History*. With this tool, instead of sending individual requests for each record, users can make a single request for a set of records and then work with that data iteratively or in batches. This is especially useful when working with thousands or even millions of records, as it significantly reduces the number of individual requests needed and the time required to complete the task. Subsequently, the procedure is explained, although for this project I did not retrieve such a large number of records, so it was not used.\n",
    "\n",
    "\n",
    "Another important aspect is managing potential IP blocks when using the *Entrez* services; for this, it is essential to register an email address. NCBI implements this process to ensure the responsible and equitable use of its resources, as well as to maintain the integrity and availability of its services.\n",
    "\n",
    "\n",
    "A limitation of the system is that these utilities can only retrieve data that is already in *Entrez*, although the majority of NCBI data is available there. In fact, the search performed in the following code retrieves articles from the past year, and as can be seen in the dataframe, content from this same month can be downloaded.\n",
    "\n",
    "Regarding system operation, the data records contained in each *Entrez* database are identified by an integer ID called UID (Unique Identifier). The core of the system consists of two tasks: gathering the list of UIDs that match a text query and retrieving a brief summary record called a Document Summary (DocSum) for each UID.\n",
    "\n",
    "\n",
    "Access to this API is carried out through the *Biopython* library.\"\n",
    "\n"
   ]
  },
  {
   "cell_type": "markdown",
   "metadata": {},
   "source": [
    "### Biopython API Documentation"
   ]
  },
  {
   "cell_type": "markdown",
   "metadata": {},
   "source": [
    "Biopython API Documetation link: https://biopython.org/docs/latest/api/index.html"
   ]
  },
  {
   "cell_type": "markdown",
   "metadata": {},
   "source": [
    "This API is used not only to access scientific article data but also for bioinformatics purposes. The package used in this project is *Bio.Entrez*, specifically to access the PubMed database (biomedical literature), although other options include *GenBank* (genetic sequences) and *BLAST* (biological sequence analysis).\n",
    "\n",
    "Since it is a bioinformatics API, the rest of the packages within the API have functionalities related to the retrieval and manipulation of DNA and RNA sequences (*Bio.Seq*), working with protein structures (*Bio.PDB*), obtaining graphical representations of biological data (*Bio.Graphics*), among others."
   ]
  },
  {
   "cell_type": "markdown",
   "metadata": {},
   "source": [
    "***Bio.Entrez*** package utilities: \n",
    "- https://www.ncbi.nlm.nih.gov/books/NBK25499/#chapter4\n",
    "- https://biopython.org/docs/latest/api/Bio.Entrez.html"
   ]
  },
  {
   "cell_type": "markdown",
   "metadata": {},
   "source": [
    "## 2. Libraries and modules"
   ]
  },
  {
   "cell_type": "code",
   "execution_count": 1,
   "metadata": {},
   "outputs": [
    {
     "name": "stdout",
     "output_type": "stream",
     "text": [
      "Requirement already satisfied: biopython in c:\\users\\bysan\\appdata\\local\\programs\\python\\python312\\lib\\site-packages (1.83)\n",
      "Requirement already satisfied: numpy in c:\\users\\bysan\\appdata\\local\\programs\\python\\python312\\lib\\site-packages (from biopython) (1.26.3)\n"
     ]
    },
    {
     "name": "stderr",
     "output_type": "stream",
     "text": [
      "\n",
      "[notice] A new release of pip is available: 23.2.1 -> 24.2\n",
      "[notice] To update, run: python.exe -m pip install --upgrade pip\n"
     ]
    }
   ],
   "source": [
    "!pip install biopython\n",
    "# pip install --upgrade biopython\n",
    "# pip uninstall biopython"
   ]
  },
  {
   "cell_type": "markdown",
   "metadata": {},
   "source": [
    "Biopython requires NumPy (automatically installed with Biopython). "
   ]
  },
  {
   "cell_type": "code",
   "execution_count": 2,
   "metadata": {},
   "outputs": [],
   "source": [
    "from Bio import Entrez\n",
    "import pandas as pd"
   ]
  },
  {
   "cell_type": "markdown",
   "metadata": {},
   "source": [
    "To use the API, it is required to specify an email address for the request: `Entrez.email = 'A.N.Other@example.com'`. Its purpose is to manage requests to ensure efficient operation and to ensure compliance with the API's usage policies."
   ]
  },
  {
   "cell_type": "code",
   "execution_count": 3,
   "metadata": {},
   "outputs": [],
   "source": [
    "Entrez.email = \"sanjuansanjuanp@gmail.com\""
   ]
  },
  {
   "cell_type": "markdown",
   "metadata": {},
   "source": [
    "## 3. API Functions"
   ]
  },
  {
   "cell_type": "markdown",
   "metadata": {},
   "source": [
    "- `Entrez.email`: User's email address. A string without spaces containing a valid email address. For more than 3 requests/s, an api_key is required.  \n",
    "- `Entrez.einfo`: Returns a list of available databases. If a database is passed as a parameter, for example, `info = Entrez.einfo(db='pubmed')`, it provides detailed information about the database (available fields).\n",
    "- `Entrez.esearch`: Performs a search in a specified database based on a query. Returns the article identifiers (list of UIDs). `handle = Entrez.esearch(db=db, term=term)`. The query must have special characters encoded in URL format (' ' = +). HTTP POST is used for long queries. Optionally, it allows specifying a search filter based on date.\n",
    "- `Entrez.esummary`: Retrieves the summaries of the articles (*DocSum*) found using the identifiers (parameter: id). Without needing to retrieve the full content of the articles, it provides the key information.\n",
    "- `Entrez.efetch`: Retrieves the full content of the articles (parameter: id). To display the result, use the `.read()` function."
   ]
  },
  {
   "cell_type": "markdown",
   "metadata": {},
   "source": [
    "As mentioned earlier, *Entrez* allows temporarily storing sets of UIDs in a history. These sets are accessed through the *Entrez History* server, where each set of UIDs is assigned a query key and a web environment via the web interface. To use and manage this service, first, the list of UIDs is obtained with the previously mentioned `esearch` function. Subsequently, the list is uploaded to the history server with `Entrez.epost`, which allows the list of identifiers to be uploaded into a specific web environment (identified by the `webenv` parameter). To access those records stored in the history, the `esearch` function allows determining the corresponding webenv as an optional parameter.\n"
   ]
  },
  {
   "cell_type": "markdown",
   "metadata": {},
   "source": [
    "## 4. Code"
   ]
  },
  {
   "cell_type": "markdown",
   "metadata": {},
   "source": [
    "The functionality of the following code consists of:\n",
    "\n",
    "- Obtaining the available databases with this API.\n",
    "- Retrieving detailed information about the PubMed database.\n",
    "- Performing a search for *n* articles using a series of keywords and a date to obtain articles published after that date.\n",
    "- Getting a list with their IDs, a dictionary with their IDs, titles, authors, publication date, DOI code, and a link to the article's PubMed page.\n",
    "- Selecting one of the resulting articles to print its summary on the screen"
   ]
  },
  {
   "cell_type": "code",
   "execution_count": 4,
   "metadata": {},
   "outputs": [],
   "source": [
    "def available_dbs():\n",
    "    # Obtiene las bases de datos disponibles con la API de Entrez\n",
    "    info = Entrez.einfo()\n",
    "    record_info = Entrez.read(info)\n",
    "    databases = record_info[\"DbList\"]\n",
    "    return databases\n",
    "\n",
    "def pubmed_info(): \n",
    "    # Obtiene informacion detallada de la base de datos del PubMed\n",
    "    info = Entrez.einfo(db=\"pubmed\")\n",
    "    record_info = Entrez.read(info)\n",
    "    db_info = record_info['DbInfo']\n",
    "    df_main = {\n",
    "        \"Dbname\": db_info[\"DbName\"],\n",
    "        \"Menuname\": db_info[\"MenuName\"],\n",
    "        \"Description\": db_info[\"Description\"],\n",
    "        \"Dbbuild\": db_info[\"DbBuild\"],\n",
    "        \"Count\": db_info[\"Count\"],\n",
    "        \"Lastupdate\": db_info[\"LastUpdate\"],\n",
    "    }\n",
    "    df_field_list = pd.DataFrame(db_info[\"FieldList\"])\n",
    "    return df_main, df_field_list"
   ]
  },
  {
   "cell_type": "code",
   "execution_count": 5,
   "metadata": {},
   "outputs": [],
   "source": [
    "def search_articles(key_words, date, max_results=10):\n",
    "    # Realiza la búsqueda de artículos en PubMed \n",
    "    term = f\"{key_words}[Title/Abstract] AND {date}[PDAT]\"\n",
    "    search = Entrez.esearch(db=\"pubmed\", term=term, retmax=max_results)\n",
    "    record_search = Entrez.read(search)\n",
    "    return record_search[\"IdList\"]\n",
    "\n",
    "def article_details(id_list):\n",
    "    summary = Entrez.esummary(db=\"pubmed\", id=\",\".join(id_list))\n",
    "    record_summary = Entrez.read(summary)\n",
    "    articles_info = []\n",
    "    for article in record_summary:\n",
    "        article_info = {\n",
    "            \"ID\": article[\"Id\"],\n",
    "            \"Title\": article[\"Title\"],\n",
    "            \"AuthorList\": article[\"AuthorList\"],\n",
    "            \"PubDate\": article[\"PubDate\"],\n",
    "            \"DOI\": article.get(\"DOI\", \"No disponible\"),\n",
    "            \"Link PubMed\": f\"https://www.ncbi.nlm.nih.gov/pubmed/{article['Id']}\"\n",
    "        }\n",
    "        articles_info.append(article_info)\n",
    "    return articles_info\n",
    "\n",
    "def article_abstract(article_id):\n",
    "    fetch = Entrez.efetch(db=\"pubmed\", id=article_id, rettype=\"abstract\", retmode=\"text\")\n",
    "    abstract = fetch.read()\n",
    "    print(abstract)\n"
   ]
  },
  {
   "cell_type": "code",
   "execution_count": 6,
   "metadata": {},
   "outputs": [
    {
     "name": "stdout",
     "output_type": "stream",
     "text": [
      "Available databases in Entrez:\n",
      "['pubmed', 'protein', 'nuccore', 'ipg', 'nucleotide', 'structure', 'genome', 'annotinfo', 'assembly', 'bioproject', 'biosample', 'blastdbinfo', 'books', 'cdd', 'clinvar', 'gap', 'gapplus', 'grasp', 'dbvar', 'gene', 'gds', 'geoprofiles', 'medgen', 'mesh', 'nlmcatalog', 'omim', 'orgtrack', 'pmc', 'popset', 'proteinclusters', 'pcassay', 'protfam', 'pccompound', 'pcsubstance', 'seqannot', 'snp', 'sra', 'taxonomy', 'biocollections', 'gtr']\n",
      "--------------------\n",
      "Main information in PubMed:\n",
      " {'Dbname': 'pubmed', 'Menuname': 'PubMed', 'Description': 'PubMed bibliographic record', 'Dbbuild': 'Build-2024.09.06.23.59', 'Count': '37708996', 'Lastupdate': '2024/09/06 23:59'}\n",
      "\n",
      "database info:\n",
      "\n"
     ]
    },
    {
     "data": {
      "text/html": [
       "<div>\n",
       "<style scoped>\n",
       "    .dataframe tbody tr th:only-of-type {\n",
       "        vertical-align: middle;\n",
       "    }\n",
       "\n",
       "    .dataframe tbody tr th {\n",
       "        vertical-align: top;\n",
       "    }\n",
       "\n",
       "    .dataframe thead th {\n",
       "        text-align: right;\n",
       "    }\n",
       "</style>\n",
       "<table border=\"1\" class=\"dataframe\">\n",
       "  <thead>\n",
       "    <tr style=\"text-align: right;\">\n",
       "      <th></th>\n",
       "      <th>Name</th>\n",
       "      <th>FullName</th>\n",
       "      <th>Description</th>\n",
       "      <th>TermCount</th>\n",
       "      <th>IsDate</th>\n",
       "      <th>IsNumerical</th>\n",
       "      <th>SingleToken</th>\n",
       "      <th>Hierarchy</th>\n",
       "      <th>IsHidden</th>\n",
       "    </tr>\n",
       "  </thead>\n",
       "  <tbody>\n",
       "    <tr>\n",
       "      <th>0</th>\n",
       "      <td>ALL</td>\n",
       "      <td>All Fields</td>\n",
       "      <td>All terms from all searchable fields</td>\n",
       "      <td></td>\n",
       "      <td>N</td>\n",
       "      <td>N</td>\n",
       "      <td>N</td>\n",
       "      <td>N</td>\n",
       "      <td>N</td>\n",
       "    </tr>\n",
       "    <tr>\n",
       "      <th>1</th>\n",
       "      <td>UID</td>\n",
       "      <td>UID</td>\n",
       "      <td>Unique number assigned to publication</td>\n",
       "      <td></td>\n",
       "      <td>N</td>\n",
       "      <td>Y</td>\n",
       "      <td>Y</td>\n",
       "      <td>N</td>\n",
       "      <td>Y</td>\n",
       "    </tr>\n",
       "    <tr>\n",
       "      <th>2</th>\n",
       "      <td>FILT</td>\n",
       "      <td>Filter</td>\n",
       "      <td>Limits the records</td>\n",
       "      <td></td>\n",
       "      <td>N</td>\n",
       "      <td>N</td>\n",
       "      <td>Y</td>\n",
       "      <td>N</td>\n",
       "      <td>N</td>\n",
       "    </tr>\n",
       "    <tr>\n",
       "      <th>3</th>\n",
       "      <td>TITL</td>\n",
       "      <td>Title</td>\n",
       "      <td>Words in title of publication</td>\n",
       "      <td></td>\n",
       "      <td>N</td>\n",
       "      <td>N</td>\n",
       "      <td>N</td>\n",
       "      <td>N</td>\n",
       "      <td>N</td>\n",
       "    </tr>\n",
       "    <tr>\n",
       "      <th>4</th>\n",
       "      <td>MESH</td>\n",
       "      <td>MeSH Terms</td>\n",
       "      <td>Medical Subject Headings assigned to publication</td>\n",
       "      <td></td>\n",
       "      <td>N</td>\n",
       "      <td>N</td>\n",
       "      <td>Y</td>\n",
       "      <td>Y</td>\n",
       "      <td>N</td>\n",
       "    </tr>\n",
       "  </tbody>\n",
       "</table>\n",
       "</div>"
      ],
      "text/plain": [
       "   Name    FullName                                       Description  \\\n",
       "0   ALL  All Fields              All terms from all searchable fields   \n",
       "1   UID         UID             Unique number assigned to publication   \n",
       "2  FILT      Filter                                Limits the records   \n",
       "3  TITL       Title                     Words in title of publication   \n",
       "4  MESH  MeSH Terms  Medical Subject Headings assigned to publication   \n",
       "\n",
       "  TermCount IsDate IsNumerical SingleToken Hierarchy IsHidden  \n",
       "0                N           N           N         N        N  \n",
       "1                N           Y           Y         N        Y  \n",
       "2                N           N           Y         N        N  \n",
       "3                N           N           N         N        N  \n",
       "4                N           N           Y         Y        N  "
      ]
     },
     "execution_count": 6,
     "metadata": {},
     "output_type": "execute_result"
    }
   ],
   "source": [
    "# Obtener bases de datos disponibles\n",
    "print(\"Available databases in Entrez:\")\n",
    "print(available_dbs())\n",
    "print('-'*20)\n",
    "\n",
    "# Obtener información detallada de PubMed\n",
    "df_main, df_field_list= pubmed_info()\n",
    "print('Main information in PubMed:\\n', df_main)\n",
    "print('\\ndatabase info:\\n')\n",
    "df_field_list.head()"
   ]
  },
  {
   "cell_type": "code",
   "execution_count": 7,
   "metadata": {},
   "outputs": [
    {
     "name": "stdout",
     "output_type": "stream",
     "text": [
      "\n",
      "Search for articles on '['cancer', 'brain']' published from 2023:\n",
      "IDs of the articles found:  ['38370347', '38328712', '38303306', '38260227', '38201564', '38187734', '38175350', '38149244', '38145439', '38142850']\n"
     ]
    }
   ],
   "source": [
    "# Realizar una búsqueda de artículos\n",
    "key_words = [\"cancer\", \"brain\"]\n",
    "date = \"2023\"\n",
    "print(f\"\\nSearch for articles on '{key_words}' published from {date}:\")\n",
    "id_list = search_articles(key_words, date)\n",
    "print(\"IDs of the articles found: \", id_list)"
   ]
  },
  {
   "cell_type": "code",
   "execution_count": 8,
   "metadata": {},
   "outputs": [
    {
     "name": "stdout",
     "output_type": "stream",
     "text": [
      "\n",
      "Articles detailed information:\n"
     ]
    },
    {
     "data": {
      "text/html": [
       "<div>\n",
       "<style scoped>\n",
       "    .dataframe tbody tr th:only-of-type {\n",
       "        vertical-align: middle;\n",
       "    }\n",
       "\n",
       "    .dataframe tbody tr th {\n",
       "        vertical-align: top;\n",
       "    }\n",
       "\n",
       "    .dataframe thead th {\n",
       "        text-align: right;\n",
       "    }\n",
       "</style>\n",
       "<table border=\"1\" class=\"dataframe\">\n",
       "  <thead>\n",
       "    <tr style=\"text-align: right;\">\n",
       "      <th></th>\n",
       "      <th>ID</th>\n",
       "      <th>Title</th>\n",
       "      <th>AuthorList</th>\n",
       "      <th>PubDate</th>\n",
       "      <th>DOI</th>\n",
       "      <th>Link PubMed</th>\n",
       "    </tr>\n",
       "  </thead>\n",
       "  <tbody>\n",
       "    <tr>\n",
       "      <th>0</th>\n",
       "      <td>38370347</td>\n",
       "      <td>Neurotoxicity-sparing radiotherapy for brain m...</td>\n",
       "      <td>[Buczek D, Zaucha R, Jassem J]</td>\n",
       "      <td>2023</td>\n",
       "      <td>10.3389/fonc.2023.1215426</td>\n",
       "      <td>https://www.ncbi.nlm.nih.gov/pubmed/38370347</td>\n",
       "    </tr>\n",
       "    <tr>\n",
       "      <th>1</th>\n",
       "      <td>38328712</td>\n",
       "      <td>Experimental models for cancer brain metastasis.</td>\n",
       "      <td>[Liu Z, Dong S, Liu M, Liu Y, Ye Z, Zeng J, Ya...</td>\n",
       "      <td>2024 Jan</td>\n",
       "      <td>10.1016/j.cpt.2023.10.005</td>\n",
       "      <td>https://www.ncbi.nlm.nih.gov/pubmed/38328712</td>\n",
       "    </tr>\n",
       "    <tr>\n",
       "      <th>2</th>\n",
       "      <td>38303306</td>\n",
       "      <td>[A Case of Breast Cancer Brain Metastases Succ...</td>\n",
       "      <td>[Hikino H, Otani A, Makino Y, Murata Y]</td>\n",
       "      <td>2023 Dec</td>\n",
       "      <td>No disponible</td>\n",
       "      <td>https://www.ncbi.nlm.nih.gov/pubmed/38303306</td>\n",
       "    </tr>\n",
       "    <tr>\n",
       "      <th>3</th>\n",
       "      <td>38260227</td>\n",
       "      <td>Effects of Ataxia-Telangiectasia Mutated Varia...</td>\n",
       "      <td>[Floyd W, Carpenter D, Vaios E, Shenker R, Hen...</td>\n",
       "      <td>2024 Jan</td>\n",
       "      <td>10.1016/j.adro.2023.101320</td>\n",
       "      <td>https://www.ncbi.nlm.nih.gov/pubmed/38260227</td>\n",
       "    </tr>\n",
       "    <tr>\n",
       "      <th>4</th>\n",
       "      <td>38201564</td>\n",
       "      <td>Stereotactic Radiosurgery for Women Older than...</td>\n",
       "      <td>[Upadhyay R, Klamer BG, Perlow HK, White JR, B...</td>\n",
       "      <td>2023 Dec 27</td>\n",
       "      <td>10.3390/cancers16010137</td>\n",
       "      <td>https://www.ncbi.nlm.nih.gov/pubmed/38201564</td>\n",
       "    </tr>\n",
       "    <tr>\n",
       "      <th>5</th>\n",
       "      <td>38187734</td>\n",
       "      <td>Discovery of novel brain permeable human ACSS2...</td>\n",
       "      <td>[Esquea E, Ciraku L, Young RG, Merzy J, Talari...</td>\n",
       "      <td>2023 Dec 23</td>\n",
       "      <td>10.1101/2023.12.22.573073</td>\n",
       "      <td>https://www.ncbi.nlm.nih.gov/pubmed/38187734</td>\n",
       "    </tr>\n",
       "    <tr>\n",
       "      <th>6</th>\n",
       "      <td>38175350</td>\n",
       "      <td>Breast Cancer Brain Metastases: Achilles' Heel...</td>\n",
       "      <td>[Ferraro E, Seidman AD]</td>\n",
       "      <td>2023</td>\n",
       "      <td>10.1007/978-3-031-33602-7_11</td>\n",
       "      <td>https://www.ncbi.nlm.nih.gov/pubmed/38175350</td>\n",
       "    </tr>\n",
       "    <tr>\n",
       "      <th>7</th>\n",
       "      <td>38149244</td>\n",
       "      <td>Unlocking molecular mechanisms and identifying...</td>\n",
       "      <td>[Najjary S, de Koning W, Kros JM, Mustafa DAM]</td>\n",
       "      <td>2023</td>\n",
       "      <td>10.3389/fimmu.2023.1305644</td>\n",
       "      <td>https://www.ncbi.nlm.nih.gov/pubmed/38149244</td>\n",
       "    </tr>\n",
       "    <tr>\n",
       "      <th>8</th>\n",
       "      <td>38145439</td>\n",
       "      <td>Air quality and cancer risk in the All of Us R...</td>\n",
       "      <td>[Craver A, Luo J, Kibriya MG, Randorf N, Bahl ...</td>\n",
       "      <td>2024 May</td>\n",
       "      <td>10.1007/s10552-023-01823-7</td>\n",
       "      <td>https://www.ncbi.nlm.nih.gov/pubmed/38145439</td>\n",
       "    </tr>\n",
       "    <tr>\n",
       "      <th>9</th>\n",
       "      <td>38142850</td>\n",
       "      <td>Microtubule destabilising activity of selected...</td>\n",
       "      <td>[Perużyńska M, Birger R, Piotrowska K, Kwiecie...</td>\n",
       "      <td>2024 Feb 5</td>\n",
       "      <td>10.1016/j.ejphar.2023.176308</td>\n",
       "      <td>https://www.ncbi.nlm.nih.gov/pubmed/38142850</td>\n",
       "    </tr>\n",
       "  </tbody>\n",
       "</table>\n",
       "</div>"
      ],
      "text/plain": [
       "         ID                                              Title  \\\n",
       "0  38370347  Neurotoxicity-sparing radiotherapy for brain m...   \n",
       "1  38328712   Experimental models for cancer brain metastasis.   \n",
       "2  38303306  [A Case of Breast Cancer Brain Metastases Succ...   \n",
       "3  38260227  Effects of Ataxia-Telangiectasia Mutated Varia...   \n",
       "4  38201564  Stereotactic Radiosurgery for Women Older than...   \n",
       "5  38187734  Discovery of novel brain permeable human ACSS2...   \n",
       "6  38175350  Breast Cancer Brain Metastases: Achilles' Heel...   \n",
       "7  38149244  Unlocking molecular mechanisms and identifying...   \n",
       "8  38145439  Air quality and cancer risk in the All of Us R...   \n",
       "9  38142850  Microtubule destabilising activity of selected...   \n",
       "\n",
       "                                          AuthorList      PubDate  \\\n",
       "0                     [Buczek D, Zaucha R, Jassem J]         2023   \n",
       "1  [Liu Z, Dong S, Liu M, Liu Y, Ye Z, Zeng J, Ya...     2024 Jan   \n",
       "2            [Hikino H, Otani A, Makino Y, Murata Y]     2023 Dec   \n",
       "3  [Floyd W, Carpenter D, Vaios E, Shenker R, Hen...     2024 Jan   \n",
       "4  [Upadhyay R, Klamer BG, Perlow HK, White JR, B...  2023 Dec 27   \n",
       "5  [Esquea E, Ciraku L, Young RG, Merzy J, Talari...  2023 Dec 23   \n",
       "6                            [Ferraro E, Seidman AD]         2023   \n",
       "7     [Najjary S, de Koning W, Kros JM, Mustafa DAM]         2023   \n",
       "8  [Craver A, Luo J, Kibriya MG, Randorf N, Bahl ...     2024 May   \n",
       "9  [Perużyńska M, Birger R, Piotrowska K, Kwiecie...   2024 Feb 5   \n",
       "\n",
       "                            DOI                                   Link PubMed  \n",
       "0     10.3389/fonc.2023.1215426  https://www.ncbi.nlm.nih.gov/pubmed/38370347  \n",
       "1     10.1016/j.cpt.2023.10.005  https://www.ncbi.nlm.nih.gov/pubmed/38328712  \n",
       "2                 No disponible  https://www.ncbi.nlm.nih.gov/pubmed/38303306  \n",
       "3    10.1016/j.adro.2023.101320  https://www.ncbi.nlm.nih.gov/pubmed/38260227  \n",
       "4       10.3390/cancers16010137  https://www.ncbi.nlm.nih.gov/pubmed/38201564  \n",
       "5     10.1101/2023.12.22.573073  https://www.ncbi.nlm.nih.gov/pubmed/38187734  \n",
       "6  10.1007/978-3-031-33602-7_11  https://www.ncbi.nlm.nih.gov/pubmed/38175350  \n",
       "7    10.3389/fimmu.2023.1305644  https://www.ncbi.nlm.nih.gov/pubmed/38149244  \n",
       "8    10.1007/s10552-023-01823-7  https://www.ncbi.nlm.nih.gov/pubmed/38145439  \n",
       "9  10.1016/j.ejphar.2023.176308  https://www.ncbi.nlm.nih.gov/pubmed/38142850  "
      ]
     },
     "execution_count": 8,
     "metadata": {},
     "output_type": "execute_result"
    }
   ],
   "source": [
    "# Obtener información detallada de los artículos en un dataframe\n",
    "articles_info = article_details(id_list)\n",
    "print(\"\\nArticles detailed information:\")\n",
    "df = pd.DataFrame(articles_info)\n",
    "df"
   ]
  },
  {
   "cell_type": "code",
   "execution_count": 9,
   "metadata": {},
   "outputs": [
    {
     "name": "stdout",
     "output_type": "stream",
     "text": [
      "\n",
      "First article found summary:\n",
      "1. Front Oncol. 2024 Feb 2;13:1215426. doi: 10.3389/fonc.2023.1215426.\n",
      "eCollection  2023.\n",
      "\n",
      "Neurotoxicity-sparing radiotherapy for brain metastases in breast cancer: a \n",
      "narrative review.\n",
      "\n",
      "Buczek D(#)(1), Zaucha R(#)(1), Jassem J(1).\n",
      "\n",
      "Author information:\n",
      "(1)Department of Oncology and Radiotherapy, Medical University of Gdańsk, \n",
      "Gdańsk, Poland.\n",
      "(#)Contributed equally\n",
      "\n",
      "Breast cancer brain metastasis (BCBM) has a devastating impact on patient \n",
      "survival, cognitive function and quality of life. Radiotherapy remains the \n",
      "standard management of BM but may result in considerable neurotoxicity. Herein, \n",
      "we describe the current knowledge on methods for reducing radiation-induced \n",
      "cognitive dysfunction in patients with BCBM. A better understanding of the \n",
      "biology and molecular underpinnings of BCBM, as well as more sophisticated \n",
      "prognostic models and individualized treatment approaches, have appeared to \n",
      "enable more effective neuroprotection. The therapeutic armamentarium has \n",
      "expanded from surgery and whole-brain radiotherapy to stereotactic radiosurgery, \n",
      "targeted therapies and immunotherapies, used sequentially or in combination. \n",
      "Advances in neuroimaging have allowed more accurate screening for intracranial \n",
      "metastases, precise targeting of intracranial lesions and the differentiation of \n",
      "the effects of treatment from disease progression. The availability of numerous \n",
      "treatment options for patients with BCBM and multidisciplinary approaches have \n",
      "led to personalized treatment and improved therapeutic outcomes. Ongoing studies \n",
      "may define the optimal sequencing of available and emerging treatment options \n",
      "for patients with BCBM.\n",
      "\n",
      "Copyright © 2024 Buczek, Zaucha and Jassem.\n",
      "\n",
      "DOI: 10.3389/fonc.2023.1215426\n",
      "PMCID: PMC10869626\n",
      "PMID: 38370347\n",
      "\n",
      "Conflict of interest statement: The authors declare that the research was \n",
      "conducted in the absence of any commercial or financial relationships that could \n",
      "be construed as a potential conflict of interest.\n"
     ]
    }
   ],
   "source": [
    "# Seleccionar un artículo para imprimir su resumen\n",
    "if id_list:\n",
    "    article_id = id_list[0]\n",
    "    print(\"\\nFirst article found summary:\")\n",
    "    article_abstract(article_id)\n",
    "else:\n",
    "    print(\"\\nNo articles found.\")"
   ]
  }
 ],
 "metadata": {
  "kernelspec": {
   "display_name": "venv",
   "language": "python",
   "name": "python3"
  },
  "language_info": {
   "codemirror_mode": {
    "name": "ipython",
    "version": 3
   },
   "file_extension": ".py",
   "mimetype": "text/x-python",
   "name": "python",
   "nbconvert_exporter": "python",
   "pygments_lexer": "ipython3",
   "version": "3.12.1"
  }
 },
 "nbformat": 4,
 "nbformat_minor": 2
}
