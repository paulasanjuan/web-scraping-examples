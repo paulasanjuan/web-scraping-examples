{
  "cells": [
    {
      "cell_type": "markdown",
      "id": "e9cbe931",
      "metadata": {},
      "source": [
        "# Entregable 1. \n",
        "Técnicas de Recogida de Datos. <br>\n",
        "MBDS Universidad de Navarra 2023/2024 <br>\n",
        "Paula Sanjuan Campos"
      ]
    },
    {
      "cell_type": "markdown",
      "id": "dcbfa81c",
      "metadata": {
        "id": "dcbfa81c"
      },
      "source": [
        "## Web scraping exercise\n",
        "\n",
        "Define a generic function `SOS_help` which retrieves help results from Stack Overflow Stunning results. <br>\n"
      ]
    },
    {
      "cell_type": "markdown",
      "id": "3909a0af",
      "metadata": {},
      "source": [
        "### print_out function"
      ]
    },
    {
      "cell_type": "markdown",
      "id": "f9424932",
      "metadata": {
        "id": "f9424932"
      },
      "source": [
        "`print_out` prints command execution"
      ]
    },
    {
      "cell_type": "code",
      "execution_count": 1,
      "id": "8a3e0ebd",
      "metadata": {
        "id": "8a3e0ebd"
      },
      "outputs": [],
      "source": [
        "def print_output(command):\n",
        "    command = 'print(' + command + ')'\n",
        "    return exec(command)"
      ]
    },
    {
      "cell_type": "code",
      "execution_count": 2,
      "id": "90ecfb87",
      "metadata": {},
      "outputs": [],
      "source": [
        "import numpy as np"
      ]
    },
    {
      "cell_type": "code",
      "execution_count": 3,
      "id": "5f7f3d9d",
      "metadata": {
        "colab": {
          "base_uri": "https://localhost:8080/"
        },
        "id": "5f7f3d9d",
        "outputId": "792d330b-8bcb-4582-e4d7-630b9019c86b"
      },
      "outputs": [
        {
          "name": "stdout",
          "output_type": "stream",
          "text": [
            "[-0.45993175  0.63994246 -0.48930471  0.98202975  0.34658855 -0.1750249\n",
            " -0.41701006  0.6979908   0.64748952 -0.63055864 -0.84399103  0.03194298\n",
            "  0.70873479 -0.20249189 -0.39262424 -0.12354557 -0.17053768  0.46522177\n",
            "  0.45626354  0.80380336  0.43332603  0.69375972  0.46166476 -0.88889523\n",
            "  0.81990013  0.56967641 -0.06131613 -0.5590022   0.53531737 -0.40777723\n",
            " -0.58584808  0.05511568 -0.30967205 -0.47836725 -0.57757834  0.40940735\n",
            " -0.24842466  0.73196494 -0.59591411 -0.70941815 -0.45720926 -0.41194129\n",
            "  0.60416516  0.91313938 -0.46948641 -0.39445152 -0.49988762  0.30635201\n",
            "  0.6161018  -0.04739583  0.15357575  0.84305259  0.17522432  0.64039805\n",
            "  0.65388557  0.36671115 -0.81978712  0.37643988  0.02890947  0.18733375\n",
            " -0.53964945  0.71823084  0.12801088  0.52094863 -0.06134235 -0.13178848\n",
            " -0.04324635 -0.52990902 -0.35774114  0.63957179  0.65517149 -0.47931442\n",
            " -0.29097385 -0.03281655  0.4594047   0.68884511 -0.44746389  0.11329554\n",
            "  0.75701109  0.00797963 -0.23547752 -0.81975656 -0.7413449   0.64452543\n",
            " -0.74583516  0.32829841  0.03760865 -0.75455688 -0.36371508  0.78999684\n",
            " -0.2481934  -0.05532095  0.46898388 -0.59188927 -0.13738362  0.36486165\n",
            "  0.4445527  -0.40359582 -0.72942351  0.24955037]\n"
          ]
        }
      ],
      "source": [
        "print_output(command = 'np.random.uniform(-1, 1, size=100)')"
      ]
    },
    {
      "cell_type": "markdown",
      "id": "96d52b22",
      "metadata": {
        "id": "96d52b22"
      },
      "source": [
        "if `print_out` results in an error, this is printed"
      ]
    },
    {
      "cell_type": "code",
      "execution_count": 4,
      "id": "117a7507",
      "metadata": {
        "colab": {
          "base_uri": "https://localhost:8080/",
          "height": 309
        },
        "id": "117a7507",
        "outputId": "e46e0846-5594-47c8-c60f-dbcea3b5d6ad"
      },
      "outputs": [
        {
          "ename": "NameError",
          "evalue": "name 'nn' is not defined",
          "output_type": "error",
          "traceback": [
            "\u001b[1;31m---------------------------------------------------------------------------\u001b[0m",
            "\u001b[1;31mNameError\u001b[0m                                 Traceback (most recent call last)",
            "Cell \u001b[1;32mIn[4], line 1\u001b[0m\n\u001b[1;32m----> 1\u001b[0m \u001b[43mprint_output\u001b[49m\u001b[43m(\u001b[49m\u001b[43mcommand\u001b[49m\u001b[43m \u001b[49m\u001b[38;5;241;43m=\u001b[39;49m\u001b[43m \u001b[49m\u001b[38;5;124;43m'\u001b[39;49m\u001b[38;5;124;43mnn.random.uniform(-1, 1, size=100)\u001b[39;49m\u001b[38;5;124;43m'\u001b[39;49m\u001b[43m)\u001b[49m\n",
            "Cell \u001b[1;32mIn[1], line 3\u001b[0m, in \u001b[0;36mprint_output\u001b[1;34m(command)\u001b[0m\n\u001b[0;32m      1\u001b[0m \u001b[38;5;28;01mdef\u001b[39;00m \u001b[38;5;21mprint_output\u001b[39m(command):\n\u001b[0;32m      2\u001b[0m     command \u001b[38;5;241m=\u001b[39m \u001b[38;5;124m'\u001b[39m\u001b[38;5;124mprint(\u001b[39m\u001b[38;5;124m'\u001b[39m \u001b[38;5;241m+\u001b[39m command \u001b[38;5;241m+\u001b[39m \u001b[38;5;124m'\u001b[39m\u001b[38;5;124m)\u001b[39m\u001b[38;5;124m'\u001b[39m\n\u001b[1;32m----> 3\u001b[0m     \u001b[38;5;28;01mreturn\u001b[39;00m \u001b[43mexec\u001b[49m\u001b[43m(\u001b[49m\u001b[43mcommand\u001b[49m\u001b[43m)\u001b[49m\n",
            "File \u001b[1;32m<string>:1\u001b[0m\n",
            "\u001b[1;31mNameError\u001b[0m: name 'nn' is not defined"
          ]
        }
      ],
      "source": [
        "print_output(command = 'nn.random.uniform(-1, 1, size=100)')"
      ]
    },
    {
      "cell_type": "code",
      "execution_count": null,
      "id": "5cafc219",
      "metadata": {
        "colab": {
          "base_uri": "https://localhost:8080/",
          "height": 346
        },
        "id": "5cafc219",
        "outputId": "b4fd2363-ffeb-489c-a6f3-a75a9f5563ae"
      },
      "outputs": [
        {
          "ename": "TypeError",
          "evalue": "uniform() got an unexpected keyword argument 'siz'",
          "output_type": "error",
          "traceback": [
            "\u001b[1;31m---------------------------------------------------------------------------\u001b[0m",
            "\u001b[1;31mTypeError\u001b[0m                                 Traceback (most recent call last)",
            "Cell \u001b[1;32mIn[5], line 1\u001b[0m\n\u001b[1;32m----> 1\u001b[0m \u001b[43mprint_output\u001b[49m\u001b[43m(\u001b[49m\u001b[43mcommand\u001b[49m\u001b[43m \u001b[49m\u001b[38;5;241;43m=\u001b[39;49m\u001b[43m \u001b[49m\u001b[38;5;124;43m'\u001b[39;49m\u001b[38;5;124;43mnp.random.uniform(-1, 1, siz=100)\u001b[39;49m\u001b[38;5;124;43m'\u001b[39;49m\u001b[43m)\u001b[49m\n",
            "Cell \u001b[1;32mIn[1], line 3\u001b[0m, in \u001b[0;36mprint_output\u001b[1;34m(command)\u001b[0m\n\u001b[0;32m      1\u001b[0m \u001b[38;5;28;01mdef\u001b[39;00m \u001b[38;5;21mprint_output\u001b[39m(command):\n\u001b[0;32m      2\u001b[0m     command \u001b[38;5;241m=\u001b[39m \u001b[38;5;124m'\u001b[39m\u001b[38;5;124mprint(\u001b[39m\u001b[38;5;124m'\u001b[39m \u001b[38;5;241m+\u001b[39m command \u001b[38;5;241m+\u001b[39m \u001b[38;5;124m'\u001b[39m\u001b[38;5;124m)\u001b[39m\u001b[38;5;124m'\u001b[39m\n\u001b[1;32m----> 3\u001b[0m     \u001b[38;5;28;01mreturn\u001b[39;00m \u001b[43mexec\u001b[49m\u001b[43m(\u001b[49m\u001b[43mcommand\u001b[49m\u001b[43m)\u001b[49m\n",
            "File \u001b[1;32m<string>:1\u001b[0m\n",
            "File \u001b[1;32mnumpy\\\\random\\\\mtrand.pyx:1050\u001b[0m, in \u001b[0;36mnumpy.random.mtrand.RandomState.uniform\u001b[1;34m()\u001b[0m\n",
            "\u001b[1;31mTypeError\u001b[0m: uniform() got an unexpected keyword argument 'siz'"
          ]
        }
      ],
      "source": [
        "print_output(command = 'np.random.uniform(-1, 1, siz=100)')"
      ]
    },
    {
      "cell_type": "markdown",
      "id": "e24925d6",
      "metadata": {},
      "source": [
        "### get_SOS_help function"
      ]
    },
    {
      "cell_type": "markdown",
      "id": "5ff1b416",
      "metadata": {
        "id": "5ff1b416"
      },
      "source": [
        "Create a function `get_SOS_help` which: <br>\n",
        "    - Prints \"works as intended\" if no error. <br>\n",
        "    - Prints the first link from stack overflow related to the error. As an example: <br>\n",
        "        `print_output(command = 'np.random.uniform(-1, 1, siz=100)'`\n",
        "        should retrieve the following link:\n",
        "        https://stackoverflow.com/questions/72537485/typeerror-uniform-got-an-unexpected-keyword-argument-low-size <br>\n",
        "    - Prints the most voted help\n",
        "    - Opens a new browser using the link"
      ]
    },
    {
      "cell_type": "code",
      "execution_count": 6,
      "id": "jbEU_rHfQqSM",
      "metadata": {
        "colab": {
          "base_uri": "https://localhost:8080/"
        },
        "id": "jbEU_rHfQqSM",
        "outputId": "ea0d8cf0-c75a-4744-b13c-6f1ef26e5cfa"
      },
      "outputs": [
        {
          "name": "stdout",
          "output_type": "stream",
          "text": [
            "Requirement already satisfied: selenium in c:\\users\\bysan\\appdata\\local\\programs\\python\\python312\\lib\\site-packages (4.16.0)\n",
            "Requirement already satisfied: urllib3[socks]<3,>=1.26 in c:\\users\\bysan\\appdata\\local\\programs\\python\\python312\\lib\\site-packages (from selenium) (2.1.0)\n",
            "Requirement already satisfied: trio~=0.17 in c:\\users\\bysan\\appdata\\local\\programs\\python\\python312\\lib\\site-packages (from selenium) (0.24.0)\n",
            "Requirement already satisfied: trio-websocket~=0.9 in c:\\users\\bysan\\appdata\\local\\programs\\python\\python312\\lib\\site-packages (from selenium) (0.11.1)\n",
            "Requirement already satisfied: certifi>=2021.10.8 in c:\\users\\bysan\\appdata\\local\\programs\\python\\python312\\lib\\site-packages (from selenium) (2023.11.17)\n",
            "Requirement already satisfied: attrs>=20.1.0 in c:\\users\\bysan\\appdata\\local\\programs\\python\\python312\\lib\\site-packages (from trio~=0.17->selenium) (23.2.0)\n",
            "Requirement already satisfied: sortedcontainers in c:\\users\\bysan\\appdata\\local\\programs\\python\\python312\\lib\\site-packages (from trio~=0.17->selenium) (2.4.0)\n",
            "Requirement already satisfied: idna in c:\\users\\bysan\\appdata\\local\\programs\\python\\python312\\lib\\site-packages (from trio~=0.17->selenium) (3.6)\n",
            "Requirement already satisfied: outcome in c:\\users\\bysan\\appdata\\local\\programs\\python\\python312\\lib\\site-packages (from trio~=0.17->selenium) (1.3.0.post0)\n",
            "Requirement already satisfied: sniffio>=1.3.0 in c:\\users\\bysan\\appdata\\local\\programs\\python\\python312\\lib\\site-packages (from trio~=0.17->selenium) (1.3.0)\n",
            "Requirement already satisfied: cffi>=1.14 in c:\\users\\bysan\\appdata\\local\\programs\\python\\python312\\lib\\site-packages (from trio~=0.17->selenium) (1.16.0)\n",
            "Requirement already satisfied: wsproto>=0.14 in c:\\users\\bysan\\appdata\\local\\programs\\python\\python312\\lib\\site-packages (from trio-websocket~=0.9->selenium) (1.2.0)\n",
            "Requirement already satisfied: pysocks!=1.5.7,<2.0,>=1.5.6 in c:\\users\\bysan\\appdata\\local\\programs\\python\\python312\\lib\\site-packages (from urllib3[socks]<3,>=1.26->selenium) (1.7.1)\n",
            "Requirement already satisfied: pycparser in c:\\users\\bysan\\appdata\\local\\programs\\python\\python312\\lib\\site-packages (from cffi>=1.14->trio~=0.17->selenium) (2.21)\n",
            "Requirement already satisfied: h11<1,>=0.9.0 in c:\\users\\bysan\\appdata\\local\\programs\\python\\python312\\lib\\site-packages (from wsproto>=0.14->trio-websocket~=0.9->selenium) (0.14.0)\n"
          ]
        },
        {
          "name": "stderr",
          "output_type": "stream",
          "text": [
            "\n",
            "[notice] A new release of pip is available: 23.2.1 -> 24.0\n",
            "[notice] To update, run: python.exe -m pip install --upgrade pip\n"
          ]
        }
      ],
      "source": [
        "!pip install selenium"
      ]
    },
    {
      "cell_type": "code",
      "execution_count": 9,
      "id": "zGUdXCLvQj9h",
      "metadata": {
        "id": "zGUdXCLvQj9h"
      },
      "outputs": [],
      "source": [
        "# MODULES AND LIBRARIES\n",
        "import time\n",
        "import os\n",
        "import time\n",
        "import requests\n",
        "import pandas as pd\n",
        "\n",
        "from lxml import html\n",
        "import numpy as np\n",
        "\n",
        "from bs4 import BeautifulStoneSoup # Extract data from HTML and XML files. Analyze the structure of a web page and extract information.\n",
        "from selenium import webdriver # control and automation of actions in web browsers\n",
        "from urllib.parse import quote # convert text to URL format\n",
        "import requests # send HTTP requests in Python (interaction with web sites)\n",
        "from bs4 import BeautifulSoup\n",
        "import re # manipulate regular expressions\n",
        "\n",
        "from selenium import webdriver\n",
        "from selenium.webdriver.common.action_chains import ActionChains\n",
        "from selenium.webdriver.remote.webelement import WebElement\n",
        "from selenium.webdriver.common.by import By\n",
        "from selenium.webdriver.common.keys import Keys\n",
        "from selenium.webdriver.support import expected_conditions as EC\n",
        "from selenium.webdriver.support.ui import WebDriverWait\n",
        "from selenium.webdriver.chrome.options import Options\n",
        "from selenium.common.exceptions import (\n",
        "    NoSuchElementException,\n",
        "    TimeoutException,\n",
        "    WebDriverException,\n",
        "    )\n",
        "from selenium.webdriver.support.ui import Select"
      ]
    },
    {
      "cell_type": "markdown",
      "id": "812815b2",
      "metadata": {},
      "source": [
        "Next, the necessary configuration to control a Chrome browser is set up and a `webdriver.Chrome` object is created, which represents an instance of the browser controlled with Selenium. This window is needed to get the content of the google search (first part of the exercise) and to display the content of the Stack Overflow link and the solutions sorted by score (second part of the exercise). So, it is important not to close this navigation window while the notebook is running. If it is closed, the previous cell must be run again."
      ]
    },
    {
      "cell_type": "code",
      "execution_count": 10,
      "id": "o4n4HB5iSrT4",
      "metadata": {
        "colab": {
          "base_uri": "https://localhost:8080/",
          "height": 401
        },
        "id": "o4n4HB5iSrT4",
        "outputId": "f2c81c82-e864-439f-f6e2-82bc679e5f9d"
      },
      "outputs": [],
      "source": [
        "# control and automation of actions in web browsers\n",
        "from selenium import webdriver # webdriver module of the Selenium library\n",
        "from selenium.webdriver.chrome.service import Service # control the Chrome browser process\n",
        "from webdriver_manager.chrome import ChromeDriverManager # automatically manage Chrome driver downloads and updates\n",
        "from selenium.webdriver.chrome.options import Options # configure browser-specific options\n",
        "\n",
        "chrome_options = Options()\n",
        "\n",
        "# Add any specific options you need here, for example:\n",
        "# chrome_options.add_argument('--headless')\n",
        "\n",
        "service = Service(ChromeDriverManager().install())\n",
        "driver = webdriver.Chrome(service=service, options=chrome_options)"
      ]
    },
    {
      "cell_type": "markdown",
      "id": "0d62e439",
      "metadata": {},
      "source": [
        "#### Secondary functions"
      ]
    },
    {
      "cell_type": "markdown",
      "id": "NiMft35rP5qB",
      "metadata": {
        "id": "NiMft35rP5qB"
      },
      "source": [
        "\n",
        "\n",
        "```\n",
        "print_error:\n",
        "```\n",
        "\n",
        "Function that prints the error and the type of error being made when executing the command. Returns the error URL format.\n"
      ]
    },
    {
      "cell_type": "code",
      "execution_count": 11,
      "id": "RxHRwAmPQb_k",
      "metadata": {
        "colab": {
          "base_uri": "https://localhost:8080/",
          "height": 72
        },
        "id": "RxHRwAmPQb_k",
        "outputId": "af7dc0b8-d7c0-4a95-aeb5-c9f7f7bb9ec7"
      },
      "outputs": [],
      "source": [
        "def print_error(command):\n",
        "    try:\n",
        "        exec(command)\n",
        "        print('Works as intended')\n",
        "        return None\n",
        "    except Exception as e:\n",
        "\n",
        "        # Error format\n",
        "        e_type = type(e).__name__\n",
        "        e_message = str(e)\n",
        "        formatted_e = quote(e_type + \": \" + e_message) \n",
        "        print(e_type + \": \" + e_message)\n",
        "        return formatted_e;\n"
      ]
    },
    {
      "cell_type": "markdown",
      "id": "THY3MYxqRaeC",
      "metadata": {
        "id": "THY3MYxqRaeC"
      },
      "source": [
        "\n",
        "\n",
        "```\n",
        "get_stackoverflow_url:\n",
        "```\n",
        "\n",
        "Function that in case of finding a Stack Overflow link in the  google browser returns it. Otherwise, it prints on the screen that no Stack Overflow link was found.\n",
        "\n",
        "1. Generates the URL to search in google by joining the google search header with the error returned by `print_error` (variable received by the function).\n",
        "2. With the generated url and with webdriver it obtains the content of the browser that is stored in the `html` variable. \n",
        "3. With BeautifulSoup it looks for the appropriate tags to get the links of the different options of the `html` (`hrefs`) until it finds the first one that matches the beginning of the syntax of the Stack Overflow links ('http://stackoverflow). This has been done with the `re` module that provides functions to work with regular expressions.\n",
        "4. If it finds a Stack Overflow link it returns it, otherwise it prints 'No stackoverflow links found'.\n",
        "\n",
        "\n"
      ]
    },
    {
      "cell_type": "code",
      "execution_count": 12,
      "id": "9oAKbqFwSle9",
      "metadata": {
        "id": "9oAKbqFwSle9"
      },
      "outputs": [],
      "source": [
        "def get_stackoverflow_url(search_query):\n",
        "\n",
        "    # Send request to Google\n",
        "    google_url = f\"https://www.google.com/search?q={search_query}\"\n",
        "    # response = requests.get(google_url)\n",
        "    # print('google link: ', google_url)\n",
        "\n",
        "    WAIT_TIME = 10\n",
        "    driver.wait = WebDriverWait(driver, WAIT_TIME)\n",
        "\n",
        "    # Opening the browser and saving the content\n",
        "    driver.get(google_url)\n",
        "    html = driver.page_source\n",
        "    soup = BeautifulSoup(html, 'html.parser')\n",
        "\n",
        "    # Get Stack Overflow link\n",
        "    search_titles = soup.find_all('a', attrs={'data-ved': True}, href=True)\n",
        "    hrefs = [re.search(r'href=\"(.*?)\"', str(title)).group(1) for title in search_titles]\n",
        "    stackoverflow_link = next((href for href in hrefs if re.search(r'^(http|https)://(www\\.)?stackoverflow\\.com', href)), None)\n",
        "    if stackoverflow_link:\n",
        "        print('First stackoverflow link: ', stackoverflow_link)\n",
        "        return stackoverflow_link\n",
        "    else:\n",
        "        print('No stackoverflow links found.')"
      ]
    },
    {
      "cell_type": "markdown",
      "id": "711f1370",
      "metadata": {},
      "source": [
        "```\n",
        "get_most_voted_answer:\n",
        "```\n",
        "\n",
        "Function that receives the Stack Overflow URL. It opens the received URL in a browser window, which must be the Stack Overflow page corresponding to the error that has occurred. Then it sorts the answers ('answers' section) by score ('Highest score'). Although this is the default, it is configured by selecting index 0 from the drop-down menu. Finally, the solution with the highest score is printed."
      ]
    },
    {
      "cell_type": "code",
      "execution_count": 16,
      "id": "72d9207a",
      "metadata": {},
      "outputs": [],
      "source": [
        "def most_voted_answer(stackoverflow_link):\n",
        "\n",
        "    # Open the StackOverflow URL obtained previously\n",
        "    WAIT_TIME = 10\n",
        "    driver.wait = WebDriverWait(driver, WAIT_TIME)\n",
        "    driver.get(stackoverflow_link)\n",
        "\n",
        "    # Identify cookies button and click it if it is necessary\n",
        "    try:\n",
        "        cookies_message = driver.find_element(By.ID, \"onetrust-banner-sdk\")\n",
        "        accept_cookies_button = cookies_message.find_element(By.XPATH, './/button[text()=\"Accept all cookies\"]')\n",
        "        accept_cookies_button.click()\n",
        "    except NoSuchElementException:\n",
        "        print(\"Cookies message element not found, already dismissed.\")\n",
        "    \n",
        "    # Select the default option in the dropdown menu (index = 0 in Stack Overflow)\n",
        "    sorting_dropdown_element = driver.find_element(By.ID, \"answer-sort-dropdown-select-menu\")\n",
        "    sorting_dropdown_element_select = Select(sorting_dropdown_element)\n",
        "    sorting_dropdown_element_select.select_by_index(0) \n",
        "\n",
        "    # Print the first and most voted answer\n",
        "    first_answer = driver.find_element(By.CSS_SELECTOR, \".answer.js-answer\")\n",
        "    answer_body = first_answer.find_element(By.CSS_SELECTOR, \".s-prose.js-post-body\")\n",
        "    print(answer_body.text)\n"
      ]
    },
    {
      "cell_type": "markdown",
      "id": "TyDBRxVMS__J",
      "metadata": {
        "id": "TyDBRxVMS__J"
      },
      "source": [
        "\n",
        "\n",
        "```\n",
        "get_SOS_help\n",
        "```\n",
        "Print the error and the Stack Overflow link. Then, in the browser, the link is opened and the help options to print the content of the top rated help are configured.\n"
      ]
    },
    {
      "cell_type": "code",
      "execution_count": 14,
      "id": "UnjN9nSsTKRm",
      "metadata": {
        "id": "UnjN9nSsTKRm"
      },
      "outputs": [],
      "source": [
        "def get_SOS_help(command):\n",
        "    try:\n",
        "        exec(command)\n",
        "        print('Works as intended')\n",
        "    except Exception as e:\n",
        "\n",
        "        # Get the error\n",
        "        formatted_e = print_error(command) \n",
        "\n",
        "        # Get and print the Stack Overflow URL\n",
        "        search_query = formatted_e\n",
        "        stackoverflow_link=get_stackoverflow_url(search_query)\n",
        "\n",
        "        # Configure the web and print the most voted solution\n",
        "        # print('Most voted answer: \\n')\n",
        "        most_voted_answer(stackoverflow_link)\n"
      ]
    },
    {
      "cell_type": "code",
      "execution_count": 17,
      "id": "MDKE9Z_MTRMJ",
      "metadata": {
        "colab": {
          "base_uri": "https://localhost:8080/",
          "height": 552
        },
        "id": "MDKE9Z_MTRMJ",
        "outputId": "7aa992c0-7719-4cdc-9e74-392817287189"
      },
      "outputs": [
        {
          "name": "stdout",
          "output_type": "stream",
          "text": [
            "TypeError: uniform() got an unexpected keyword argument 'siz'\n",
            "First stackoverflow link:  https://stackoverflow.com/questions/72537485/typeerror-uniform-got-an-unexpected-keyword-argument-low-size\n",
            "You must declare the alias library or the library name directly\n",
            "        import numpy as np\n",
            "        \n",
            "        def apply_net(y_in):\n",
            "          global w, b\n",
            "        \n",
            "          z=np.dot(w, y_in)+b\n",
            "          return(1/(1+np.exp(-z)))\n",
            "        \n",
            "        N0=2\n",
            "        N1=1 \n",
            "        \n",
            "        w=np.random.uniform(low=-10,high=+10,size=(N1,N0)) # random weights: N1xN0\n",
            "        b=np.random.uniform(low=-1,high=+1,size=N1) #biases: N1 vector\n"
          ]
        }
      ],
      "source": [
        "command = 'np.random.uniform(-1, 1, siz=100)'\n",
        "get_SOS_help(command)"
      ]
    },
    {
      "cell_type": "code",
      "execution_count": 18,
      "id": "33a56941",
      "metadata": {},
      "outputs": [],
      "source": [
        "driver.quit()"
      ]
    }
  ],
  "metadata": {
    "colab": {
      "provenance": []
    },
    "kernelspec": {
      "display_name": "Python 3 (ipykernel)",
      "language": "python",
      "name": "python3"
    },
    "language_info": {
      "codemirror_mode": {
        "name": "ipython",
        "version": 3
      },
      "file_extension": ".py",
      "mimetype": "text/x-python",
      "name": "python",
      "nbconvert_exporter": "python",
      "pygments_lexer": "ipython3",
      "version": "3.12.1"
    }
  },
  "nbformat": 4,
  "nbformat_minor": 5
}
